{
 "cells": [
  {
   "cell_type": "markdown",
   "metadata": {
    "id": "jbejfDAkNjap"
   },
   "source": [
    "This notebook is a modified version of the original code made by TensorFlow \n",
    "\n",
    "https://www.tensorflow.org/tutorials/sequences/text_generation"
   ]
  },
  {
   "cell_type": "code",
   "execution_count": 5,
   "metadata": {
    "colab": {
     "base_uri": "https://localhost:8080/",
     "height": 204
    },
    "id": "nJqlU2TswuOx",
    "outputId": "76c37fdb-de96-49c9-f456-28cf6bf59ab0"
   },
   "outputs": [
    {
     "name": "stderr",
     "output_type": "stream",
     "text": [
      "'wget' is not recognized as an internal or external command,\n",
      "operable program or batch file.\n"
     ]
    }
   ],
   "source": [
    "!wget https://raw.githubusercontent.com/SaifSultanAlharthi/Arabic_Poetry_Deep_Learning/main/poems.txt"
   ]
  },
  {
   "cell_type": "markdown",
   "metadata": {
    "id": "WGyKZj3bzf9p"
   },
   "source": [
    "### Import TensorFlow and other libraries"
   ]
  },
  {
   "cell_type": "code",
   "execution_count": 6,
   "metadata": {
    "id": "yG_n40gFzf9s"
   },
   "outputs": [],
   "source": [
    "from __future__ import absolute_import, division, print_function, unicode_literals\n",
    "\n",
    "import tensorflow as tf\n",
    "tf.executing_eagerly()\n",
    "\n",
    "import numpy as np\n",
    "import os\n",
    "import time\n",
    "import glob"
   ]
  },
  {
   "cell_type": "markdown",
   "metadata": {
    "id": "UHjdCjDuSvX_"
   },
   "source": [
    "### Read the data\n",
    "\n",
    "First, look in the text."
   ]
  },
  {
   "cell_type": "code",
   "execution_count": 10,
   "metadata": {
    "colab": {
     "base_uri": "https://localhost:8080/",
     "height": 51
    },
    "id": "aavnuByVymwK",
    "outputId": "12691cdf-b509-4818-9e4f-ca8e0bfb133e"
   },
   "outputs": [
    {
     "name": "stdout",
     "output_type": "stream",
     "text": [
      "Length of text: 293245 characters\n",
      "43 unique characters\n"
     ]
    }
   ],
   "source": [
    "# Read, then decode for py2 compat.\n",
    "text = open('poems.txt', 'rb').read().decode(encoding='utf-8')\n",
    "  \n",
    "# length of text is the number of characters in it\n",
    "print ('Length of text: {} characters'.format(len(text)))\n",
    "\n",
    "# remove some exteranous chars \n",
    "execluded = '!()*-.1:=[]«»;؛,،~?؟#\\u200f\\ufeff'\n",
    "out = \"\"\n",
    "\n",
    "\n",
    "for char in text:\n",
    "  if char not in execluded:\n",
    "    out += char\n",
    "text = out\n",
    "text = text.replace(\"\\t\\t\\t\", \"\\t\")\n",
    "text = text.replace(\"\\r\\r\\n\", \"\\n\")\n",
    "text = text.replace(\"\\r\\n\",\"\\n\")\n",
    "text = text.replace(\"\\t\\n\", \"\\n\")\n",
    "vocab = sorted(set(text))\n",
    "print ('{} unique characters'.format(len(vocab)))"
   ]
  },
  {
   "cell_type": "code",
   "execution_count": 11,
   "metadata": {
    "colab": {
     "base_uri": "https://localhost:8080/",
     "height": 170
    },
    "id": "Duhg9NrUymwO",
    "outputId": "cac37713-1cbe-4a3f-eca7-081f0c8c64e3"
   },
   "outputs": [
    {
     "name": "stdout",
     "output_type": "stream",
     "text": [
      "يابير طيك طي واعماقك اعماق\n",
      "\n",
      "ويعيش بك داب وحمامه وعصفور\n",
      "\n",
      "فاضت عيونك ماك وابتلت احداق\n",
      "\n",
      "وتنهدت منك محاله الناعور\n",
      "\n",
      "يوم انبطت روحك سجدتي لخلاق\n",
      "\n",
      "وعقب ارتفع جمك ضحكتي مع النور\n",
      "\n",
      "ويوم انهمر دمعك خضعتي على ساق\n",
      "\n",
      "ويوم انكسر حجلك زعلتي على الحور\n",
      "\n",
      "ياما بك الرمان ز\n"
     ]
    }
   ],
   "source": [
    "# Take a look at the first 250 characters in text\n",
    "print(text[:250])"
   ]
  },
  {
   "cell_type": "markdown",
   "metadata": {
    "id": "rNnrKn_lL-IJ"
   },
   "source": [
    "## Process the text"
   ]
  },
  {
   "cell_type": "markdown",
   "metadata": {
    "id": "LFjSVAlWzf-N"
   },
   "source": [
    "### Vectorize the text\n",
    "\n",
    "Before training, we need to map strings to a numerical representation. Create two lookup tables: one mapping characters to numbers, and another for numbers to characters."
   ]
  },
  {
   "cell_type": "code",
   "execution_count": 12,
   "metadata": {
    "id": "IalZLbvOzf-F"
   },
   "outputs": [],
   "source": [
    "# Creating a mapping from unique characters to indices\n",
    "char2idx = {u:i for i, u in enumerate(vocab)}\n",
    "idx2char = np.array(vocab)\n",
    "\n",
    "text_as_int = np.array([char2idx[c] for c in text])"
   ]
  },
  {
   "cell_type": "markdown",
   "metadata": {
    "id": "tZfqhkYCymwX"
   },
   "source": [
    "Now we have an integer representation for each character. Notice that we mapped the character as indexes from 0 to `len(unique)`."
   ]
  },
  {
   "cell_type": "code",
   "execution_count": 13,
   "metadata": {
    "colab": {
     "base_uri": "https://localhost:8080/",
     "height": 408
    },
    "id": "FYyNlCNXymwY",
    "outputId": "9356cd9d-7d67-4579-9a87-0a091d2e439b"
   },
   "outputs": [
    {
     "name": "stdout",
     "output_type": "stream",
     "text": [
      "{\n",
      "  '\\n':   0,\n",
      "  ' ' :   1,\n",
      "  '_' :   2,\n",
      "  'i' :   3,\n",
      "  'ء' :   4,\n",
      "  'آ' :   5,\n",
      "  'أ' :   6,\n",
      "  'ؤ' :   7,\n",
      "  'إ' :   8,\n",
      "  'ئ' :   9,\n",
      "  'ا' :  10,\n",
      "  'ب' :  11,\n",
      "  'ت' :  12,\n",
      "  'ث' :  13,\n",
      "  'ج' :  14,\n",
      "  'ح' :  15,\n",
      "  'خ' :  16,\n",
      "  'د' :  17,\n",
      "  'ذ' :  18,\n",
      "  'ر' :  19,\n",
      "  ...\n",
      "}\n"
     ]
    }
   ],
   "source": [
    "print('{')\n",
    "for char,_ in zip(char2idx, range(20)):\n",
    "    print('  {:4s}: {:3d},'.format(repr(char), char2idx[char]))\n",
    "print('  ...\\n}')"
   ]
  },
  {
   "cell_type": "code",
   "execution_count": 14,
   "metadata": {
    "colab": {
     "base_uri": "https://localhost:8080/",
     "height": 34
    },
    "id": "l1VKcQHcymwb",
    "outputId": "51c66802-7919-4ac2-ed0e-c4d855d81656"
   },
   "outputs": [
    {
     "name": "stdout",
     "output_type": "stream",
     "text": [
      "'يابير طيك طي ' ---- characters mapped to int ---- > [39 10 11 39 19  1 25 39 32  1 25 39  1]\n"
     ]
    }
   ],
   "source": [
    "# Show how the first 13 characters from the text are mapped to integers\n",
    "print ('{} ---- characters mapped to int ---- > {}'.format(repr(text[:13]), text_as_int[:13]))"
   ]
  },
  {
   "cell_type": "markdown",
   "metadata": {
    "id": "bbmsf23Bymwe"
   },
   "source": [
    "### The prediction task"
   ]
  },
  {
   "cell_type": "markdown",
   "metadata": {
    "id": "wssHQ1oGymwe"
   },
   "source": [
    "Given a character, or a sequence of characters, what is the most probable next character? This is the task we're training the model to perform. The input to the model will be a sequence of characters, and we train the model to predict the output—the following character at each time step.\n",
    "\n",
    "Since RNNs maintain an internal state that depends on the previously seen elements, given all the characters computed until this moment, what is the next character?\n"
   ]
  },
  {
   "cell_type": "markdown",
   "metadata": {
    "id": "hgsVvVxnymwf"
   },
   "source": [
    "### Create training examples and targets\n",
    "\n",
    "Next divide the text into example sequences. Each input sequence will contain `seq_length` characters from the text.\n",
    "\n",
    "For each input sequence, the corresponding targets contain the same length of text, except shifted one character to the right.\n",
    "\n",
    "So break the text into chunks of `seq_length+1`. For example, say `seq_length` is 4 and our text is \"Hello\". The input sequence would be \"Hell\", and the target sequence \"ello\".\n",
    "\n",
    "To do this first use the `tf.data.Dataset.from_tensor_slices` function to convert the text vector into a stream of character indices."
   ]
  },
  {
   "cell_type": "code",
   "execution_count": 15,
   "metadata": {
    "colab": {
     "base_uri": "https://localhost:8080/",
     "height": 173
    },
    "id": "0UHJDA39zf-O",
    "outputId": "d80c9d41-0ca6-4c2a-8dab-6992b0791b54"
   },
   "outputs": [
    {
     "name": "stdout",
     "output_type": "stream",
     "text": [
      "ي\n",
      "ا\n",
      "ب\n",
      "ي\n",
      "ر\n"
     ]
    }
   ],
   "source": [
    "# The maximum length sentence we want for a single input in characters\n",
    "seq_length = 200\n",
    "examples_per_epoch = len(text)//seq_length\n",
    "\n",
    "# Create training examples / targets\n",
    "char_dataset = tf.data.Dataset.from_tensor_slices(text_as_int)\n",
    "\n",
    "for i in char_dataset.take(5):\n",
    "  print(idx2char[i.numpy()])"
   ]
  },
  {
   "cell_type": "markdown",
   "metadata": {
    "id": "-ZSYAcQV8OGP"
   },
   "source": [
    "The `batch` method lets us easily convert these individual characters to sequences of the desired size."
   ]
  },
  {
   "cell_type": "code",
   "execution_count": 16,
   "metadata": {
    "colab": {
     "base_uri": "https://localhost:8080/",
     "height": 122
    },
    "id": "l4hkDU3i7ozi",
    "outputId": "dce960bc-ea13-451f-fc13-66b865705bf2"
   },
   "outputs": [
    {
     "name": "stdout",
     "output_type": "stream",
     "text": [
      "'يابير طيك طي واعماقك اعماق\\n\\nويعيش بك داب وحمامه وعصفور\\n\\nفاضت عيونك ماك وابتلت احداق\\n\\nوتنهدت منك محاله الناعور\\n\\nيوم انبطت روحك سجدتي لخلاق\\n\\nوعقب ارتفع جمك ضحكتي مع النور\\n\\nويوم انهمر دمعك خضعتي على ساق\\n\\n'\n",
      "'ويوم انكسر حجلك زعلتي على الحور\\n\\nياما بك الرمان زهر ف الاوراق\\n\\nلين اكتنز في حلق نحله ودبور\\n\\nوياكم وردك وصدرك ضين ونياق\\n\\nوياكم بهج جمك بعارين وصدور\\n\\nوياما رطب نخلك تعسل ف الارياق\\n\\nوياما طحين ارضك تقسم ع'\n",
      "'لى الدور\\n\\nوياما وهبتي جل وافنيتي ادقاق\\n\\nوياما هماجك حل في الخصب والبور\\n\\nشفتك وانا قلبي على صلدك ارقاق\\n\\nوحسيت في حنجرتي عظام وكسور\\n\\nيقولون الشعر وصل القلم والصفحه الطرقى\\n\\nوانا اقول الشعر قدح الخيال ونار'\n",
      "' صوانه\\n\\nحبيبي والبحر سور التراب ودفتر الغرقى\\n\\nلو اني ماكتبتك لامني ملحه ومرجانه\\n\\nحبيبي لاهمت حبر العروق الغيمه الزرقا\\n\\nعلى رمل الورق دمي سحاب هل هتانه\\n\\nحبيبي كل ماذعذع جفاك وناحت الورقى\\n\\nيتل البال قلبي'\n",
      "' واهدي السجات جنحانه\\n\\nحبيبي وانت مرقاب الشجون وهاجس المرقى\\n\\nترى كلٍ يموت الا الوفي بعيون خلانه\\n\\nحبيبي والجروح اللي سببها ليله الفرقا\\n\\nضما يدها الوصال اليا ظما المحروم حرمانه\\n\\nحبيبي لو يسامحك البحر وتبي'\n"
     ]
    }
   ],
   "source": [
    "sequences = char_dataset.batch(seq_length+1, drop_remainder=True)\n",
    "\n",
    "for item in sequences.take(5):\n",
    "  print(repr(''.join(idx2char[item.numpy()])))"
   ]
  },
  {
   "cell_type": "markdown",
   "metadata": {
    "id": "UbLcIPBj_mWZ"
   },
   "source": [
    "For each sequence, duplicate and shift it to form the input and target text by using the `map` method to apply a simple function to each batch:"
   ]
  },
  {
   "cell_type": "code",
   "execution_count": 17,
   "metadata": {
    "id": "9NGu-FkO_kYU"
   },
   "outputs": [],
   "source": [
    "def split_input_target(chunk):\n",
    "    input_text = chunk[:-1]\n",
    "    target_text = chunk[1:]\n",
    "    return input_text, target_text\n",
    "\n",
    "dataset = sequences.map(split_input_target)"
   ]
  },
  {
   "cell_type": "markdown",
   "metadata": {
    "id": "hiCopyGZymwi"
   },
   "source": [
    "Print the first examples input and target values:"
   ]
  },
  {
   "cell_type": "code",
   "execution_count": 18,
   "metadata": {
    "colab": {
     "base_uri": "https://localhost:8080/",
     "height": 71
    },
    "id": "GNbw-iR0ymwj",
    "outputId": "80c48cfa-b344-485b-bd62-60a8dbdb63e5"
   },
   "outputs": [
    {
     "name": "stdout",
     "output_type": "stream",
     "text": [
      "Input data:  'يابير طيك طي واعماقك اعماق\\n\\nويعيش بك داب وحمامه وعصفور\\n\\nفاضت عيونك ماك وابتلت احداق\\n\\nوتنهدت منك محاله الناعور\\n\\nيوم انبطت روحك سجدتي لخلاق\\n\\nوعقب ارتفع جمك ضحكتي مع النور\\n\\nويوم انهمر دمعك خضعتي على ساق\\n'\n",
      "Target data: 'ابير طيك طي واعماقك اعماق\\n\\nويعيش بك داب وحمامه وعصفور\\n\\nفاضت عيونك ماك وابتلت احداق\\n\\nوتنهدت منك محاله الناعور\\n\\nيوم انبطت روحك سجدتي لخلاق\\n\\nوعقب ارتفع جمك ضحكتي مع النور\\n\\nويوم انهمر دمعك خضعتي على ساق\\n\\n'\n"
     ]
    }
   ],
   "source": [
    "for input_example, target_example in  dataset.take(1):\n",
    "  print ('Input data: ', repr(''.join(idx2char[input_example.numpy()])))\n",
    "  print ('Target data:', repr(''.join(idx2char[target_example.numpy()])))"
   ]
  },
  {
   "cell_type": "markdown",
   "metadata": {
    "id": "_33OHL3b84i0"
   },
   "source": [
    "Each index of these vectors are processed as one time step. For the input at time step 0, the model receives the index for \"F\" and tries to predict the index for \"i\" as the next character. At the next timestep, it does the same thing but the `RNN` considers the previous step context in addition to the current input character."
   ]
  },
  {
   "cell_type": "code",
   "execution_count": 19,
   "metadata": {
    "colab": {
     "base_uri": "https://localhost:8080/",
     "height": 272
    },
    "id": "0eBu9WZG84i0",
    "outputId": "79df363f-1000-4d01-90a6-e48126213c2f"
   },
   "outputs": [
    {
     "name": "stdout",
     "output_type": "stream",
     "text": [
      "Step    0\n",
      "  input: 39 ('ي')\n",
      "  expected output: 10 ('ا')\n",
      "Step    1\n",
      "  input: 10 ('ا')\n",
      "  expected output: 11 ('ب')\n",
      "Step    2\n",
      "  input: 11 ('ب')\n",
      "  expected output: 39 ('ي')\n",
      "Step    3\n",
      "  input: 39 ('ي')\n",
      "  expected output: 19 ('ر')\n",
      "Step    4\n",
      "  input: 19 ('ر')\n",
      "  expected output: 1 (' ')\n"
     ]
    }
   ],
   "source": [
    "for i, (input_idx, target_idx) in enumerate(zip(input_example[:5], target_example[:5])):\n",
    "    print(\"Step {:4d}\".format(i))\n",
    "    print(\"  input: {} ({:s})\".format(input_idx, repr(idx2char[input_idx])))\n",
    "    print(\"  expected output: {} ({:s})\".format(target_idx, repr(idx2char[target_idx])))"
   ]
  },
  {
   "cell_type": "markdown",
   "metadata": {
    "id": "MJdfPmdqzf-R"
   },
   "source": [
    "### Create training batches\n",
    "\n",
    "We used `tf.data` to split the text into manageable sequences. But before feeding this data into the model, we need to shuffle the data and pack it into batches."
   ]
  },
  {
   "cell_type": "code",
   "execution_count": 20,
   "metadata": {
    "colab": {
     "base_uri": "https://localhost:8080/",
     "height": 34
    },
    "id": "p2pGotuNzf-S",
    "outputId": "80e1244e-9ccd-4243-87a9-1d0ce4a12a7b"
   },
   "outputs": [
    {
     "data": {
      "text/plain": [
       "<BatchDataset shapes: ((128, 200), (128, 200)), types: (tf.int32, tf.int32)>"
      ]
     },
     "execution_count": 20,
     "metadata": {},
     "output_type": "execute_result"
    }
   ],
   "source": [
    "# Batch size\n",
    "BATCH_SIZE = 128\n",
    "steps_per_epoch = examples_per_epoch//BATCH_SIZE\n",
    "\n",
    "# Buffer size to shuffle the dataset\n",
    "# (TF data is designed to work with possibly infinite sequences,\n",
    "# so it doesn't attempt to shuffle the entire sequence in memory. Instead,\n",
    "# it maintains a buffer in which it shuffles elements).\n",
    "BUFFER_SIZE = 10000\n",
    "\n",
    "dataset = dataset.shuffle(BUFFER_SIZE).batch(BATCH_SIZE, drop_remainder=True)\n",
    "\n",
    "dataset"
   ]
  },
  {
   "cell_type": "markdown",
   "metadata": {
    "id": "r6oUuElIMgVx"
   },
   "source": [
    "## Build The Model"
   ]
  },
  {
   "cell_type": "markdown",
   "metadata": {
    "id": "m8gPwEjRzf-Z"
   },
   "source": [
    "Use `tf.keras.Sequential` to define the model. For this simple example three layers are used to define our model:\n",
    "\n",
    "* `tf.keras.layers.Embedding`: The input layer. A trainable lookup table that will map the numbers of each character to a vector with `embedding_dim` dimensions;\n",
    "* `tf.keras.layers.GRU`: A type of RNN with size `units=rnn_units` (You can also use a LSTM layer here.)\n",
    "* `tf.keras.layers.Dense`: The output layer, with `vocab_size` outputs."
   ]
  },
  {
   "cell_type": "code",
   "execution_count": 21,
   "metadata": {
    "id": "zHT8cLh7EAsg"
   },
   "outputs": [],
   "source": [
    "# Length of the vocabulary in chars\n",
    "vocab_size = len(vocab)\n",
    "\n",
    "# The embedding dimension\n",
    "embedding_dim = 256\n",
    "\n",
    "# Number of RNN units\n",
    "rnn_units = 1024"
   ]
  },
  {
   "cell_type": "markdown",
   "metadata": {
    "id": "NNVB-jmMEOzP"
   },
   "source": [
    "Next define a function to build the model."
   ]
  },
  {
   "cell_type": "code",
   "execution_count": 22,
   "metadata": {
    "id": "MtCrdfzEI2N0"
   },
   "outputs": [],
   "source": [
    "def build_model(vocab_size, embedding_dim, rnn_units, batch_size):\n",
    "  model = tf.keras.Sequential([\n",
    "    tf.keras.layers.Embedding(vocab_size, embedding_dim,\n",
    "                              batch_input_shape=[batch_size, None]),\n",
    "    tf.keras.layers.GRU(rnn_units,\n",
    "        return_sequences=True,\n",
    "        recurrent_initializer='glorot_uniform',\n",
    "        stateful=True),\n",
    "    tf.keras.layers.Dense(vocab_size)\n",
    "  ])\n",
    "  return model"
   ]
  },
  {
   "cell_type": "code",
   "execution_count": 23,
   "metadata": {
    "id": "wwsrpOik5zhv"
   },
   "outputs": [],
   "source": [
    "model = build_model(\n",
    "  vocab_size = len(vocab),\n",
    "  embedding_dim=embedding_dim,\n",
    "  rnn_units=rnn_units,\n",
    "  batch_size=BATCH_SIZE)"
   ]
  },
  {
   "cell_type": "markdown",
   "metadata": {
    "id": "RkA5upJIJ7W7"
   },
   "source": [
    "For each character the model looks up the embedding, runs the GRU one timestep with the embedding as input, and applies the dense layer to generate logits predicting the log-liklihood of the next character:\n",
    "\n",
    "![A drawing of the data passing through the model](https://tensorflow.org/tutorials/sequences/images/text_generation_training.png)"
   ]
  },
  {
   "cell_type": "markdown",
   "metadata": {
    "id": "-ubPo0_9Prjb"
   },
   "source": [
    "## Try the model\n",
    "\n",
    "Now run the model to see that it behaves as expected.\n",
    "\n",
    "First check the shape of the output:"
   ]
  },
  {
   "cell_type": "code",
   "execution_count": 24,
   "metadata": {
    "colab": {
     "base_uri": "https://localhost:8080/",
     "height": 34
    },
    "id": "C-_70kKAPrPU",
    "outputId": "5c853386-22b1-4c0f-9559-861060be8605"
   },
   "outputs": [
    {
     "name": "stdout",
     "output_type": "stream",
     "text": [
      "(128, 200, 43) # (batch_size, sequence_length, vocab_size)\n"
     ]
    }
   ],
   "source": [
    "for input_example_batch, target_example_batch in dataset.take(1):\n",
    "  example_batch_predictions = model(input_example_batch)\n",
    "  print(example_batch_predictions.shape, \"# (batch_size, sequence_length, vocab_size)\")"
   ]
  },
  {
   "cell_type": "markdown",
   "metadata": {
    "id": "Q6NzLBi4VM4o"
   },
   "source": [
    "In the above example the sequence length of the input is `100` but the model can be run on inputs of any length:"
   ]
  },
  {
   "cell_type": "code",
   "execution_count": 25,
   "metadata": {
    "colab": {
     "base_uri": "https://localhost:8080/",
     "height": 238
    },
    "id": "vPGmAAXmVLGC",
    "outputId": "4c517c2d-3aa9-4dcf-a1d3-c3900e3c716a"
   },
   "outputs": [
    {
     "name": "stdout",
     "output_type": "stream",
     "text": [
      "Model: \"sequential\"\n",
      "_________________________________________________________________\n",
      " Layer (type)                Output Shape              Param #   \n",
      "=================================================================\n",
      " embedding (Embedding)       (128, None, 256)          11008     \n",
      "                                                                 \n",
      " gru (GRU)                   (128, None, 1024)         3938304   \n",
      "                                                                 \n",
      " dense (Dense)               (128, None, 43)           44075     \n",
      "                                                                 \n",
      "=================================================================\n",
      "Total params: 3,993,387\n",
      "Trainable params: 3,993,387\n",
      "Non-trainable params: 0\n",
      "_________________________________________________________________\n"
     ]
    }
   ],
   "source": [
    "model.summary()"
   ]
  },
  {
   "cell_type": "markdown",
   "metadata": {
    "id": "uwv0gEkURfx1"
   },
   "source": [
    "To get actual predictions from the model we need to sample from the output distribution, to get actual character indices. This distribution is defined by the logits over the character vocabulary.\n",
    "\n",
    "Note: It is important to _sample_ from this distribution as taking the _argmax_ of the distribution can easily get the model stuck in a loop.\n",
    "\n",
    "Try it for the first example in the batch:"
   ]
  },
  {
   "cell_type": "code",
   "execution_count": 26,
   "metadata": {
    "id": "4V4MfFg0RQJg"
   },
   "outputs": [],
   "source": [
    "sampled_indices = tf.random.categorical(example_batch_predictions[0], num_samples=1)\n",
    "sampled_indices = tf.squeeze(sampled_indices,axis=-1).numpy()"
   ]
  },
  {
   "cell_type": "markdown",
   "metadata": {
    "id": "QM1Vbxs_URw5"
   },
   "source": [
    "This gives us, at each timestep, a prediction of the next character index:"
   ]
  },
  {
   "cell_type": "code",
   "execution_count": 27,
   "metadata": {
    "colab": {
     "base_uri": "https://localhost:8080/",
     "height": 238
    },
    "id": "YqFMUQc_UFgM",
    "outputId": "5344a316-ef8c-415a-fbda-85f8dbdbfd5f"
   },
   "outputs": [
    {
     "name": "stdout",
     "output_type": "stream",
     "text": [
      "200\n"
     ]
    },
    {
     "data": {
      "text/plain": [
       "array([42,  2, 23, 36, 12, 42, 31, 28, 20, 30, 36, 42, 42, 30,  0, 36, 33,\n",
       "       17, 29, 22, 16, 31, 40, 21, 32, 28, 40, 34, 33, 38,  8, 39, 28, 22,\n",
       "       32, 37, 28, 20, 33, 28, 15, 42, 33, 21, 39,  3, 23, 12, 15, 19, 18,\n",
       "       32, 27, 40,  1,  3, 28, 32, 26, 11,  1,  0,  8, 16, 17, 14,  8, 34,\n",
       "        6,  9, 10, 12,  6, 26, 42, 10, 18, 32,  0,  6,  3, 17, 22,  8, 18,\n",
       "       20, 27, 13, 22, 23, 16, 24, 31, 13, 19, 42, 28,  1, 39, 23, 17, 18,\n",
       "        2,  2, 13, 28, 22, 15, 16, 40, 26, 37, 37, 35, 14,  2, 31, 34, 11,\n",
       "       31,  6, 30, 32, 34, 20, 39, 31, 13,  2, 30, 20, 42, 37, 29, 13, 37,\n",
       "       15, 22, 36,  3, 37, 32, 40, 25, 42,  8, 18,  2,  3, 25,  5, 19, 31,\n",
       "       16, 29, 17, 17, 35, 27, 34, 13, 39, 30, 34,  8, 18, 26, 14, 37, 34,\n",
       "       38,  1, 27, 32,  4, 37, 23,  9,  4, 37, 32, 40, 23,  8, 32, 39, 26,\n",
       "        6, 18,  1, 12,  6,  0, 34, 33, 17,  8, 38, 42,  4], dtype=int64)"
      ]
     },
     "execution_count": 27,
     "metadata": {},
     "output_type": "execute_result"
    }
   ],
   "source": [
    "print(len(sampled_indices))\n",
    "sampled_indices"
   ]
  },
  {
   "cell_type": "markdown",
   "metadata": {
    "id": "LfLtsP3mUhCG"
   },
   "source": [
    "Decode these to see the text predicted by this untrained model:"
   ]
  },
  {
   "cell_type": "code",
   "execution_count": 28,
   "metadata": {
    "colab": {
     "base_uri": "https://localhost:8080/",
     "height": 122
    },
    "id": "xWcFwPwLSo05",
    "outputId": "23c5c168-630d-48ac-bf3e-ff0a5160cfea"
   },
   "outputs": [
    {
     "name": "stdout",
     "output_type": "stream",
     "text": [
      "Input: \n",
      " 'ـيـهْ\\nأذئـاب أقـفـارٍ إذا مــا لــم يـكـنْحربا وإن حمِي الوطيـس حصانيـه\\nأولـم تكـن تــدري سـنـاء بأنـنـيلا يشتكـي ضـرب الـرقـابِ سِنانـيـهْ\\nأولـم تكـن تــدري سـنـاء بأنـنـيأعْـطـي إذا رب الـمـلا أعطـا'\n",
      "\n",
      "Next Char Predictions: \n",
      " 'ْ_صهتْقغزفهْْف\\nهلدـشخقٍسكغٍملىإيغشكوغزلغحْلسيiصتحرذكعٍ iغكظب \\nإخدجإمأئاتأظْاذك\\nأiدشإذزعثشصخضقثرْغ يصدذ__ثغشحخٍظوونج_قمبقأفكمزيقث_فزْوـثوحشهiوكٍطْإذ_iطآرقخـددنعمثيفمإذظجومى عكءوصئءوكٍصإكيظأذ تأ\\nملدإىْء'\n"
     ]
    }
   ],
   "source": [
    "print(\"Input: \\n\", repr(\"\".join(idx2char[input_example_batch[0].numpy()])))\n",
    "print()\n",
    "print(\"Next Char Predictions: \\n\", repr(\"\".join(idx2char[sampled_indices ])))"
   ]
  },
  {
   "cell_type": "markdown",
   "metadata": {
    "id": "LJL0Q0YPY6Ee"
   },
   "source": [
    "## Train the model"
   ]
  },
  {
   "cell_type": "markdown",
   "metadata": {
    "id": "YCbHQHiaa4Ic"
   },
   "source": [
    "At this point the problem can be treated as a standard classification problem. Given the previous RNN state, and the input this time step, predict the class of the next character."
   ]
  },
  {
   "cell_type": "markdown",
   "metadata": {
    "id": "trpqTWyvk0nr"
   },
   "source": [
    "### Attach an optimizer, and a loss function"
   ]
  },
  {
   "cell_type": "markdown",
   "metadata": {
    "id": "UAjbjY03eiQ4"
   },
   "source": [
    "The standard `tf.keras.losses.sparse_softmax_crossentropy` loss function works in this case because it is applied across the last dimension of the predictions.\n",
    "\n",
    "Because our model returns logits, we need to set the `from_logits` flag.\n"
   ]
  },
  {
   "cell_type": "code",
   "execution_count": 29,
   "metadata": {
    "colab": {
     "base_uri": "https://localhost:8080/",
     "height": 51
    },
    "id": "4HrXTACTdzY-",
    "outputId": "4dbfb833-f41d-4cdd-f5ba-69f3861216b2"
   },
   "outputs": [
    {
     "name": "stdout",
     "output_type": "stream",
     "text": [
      "Prediction shape:  (128, 200, 43)  # (batch_size, sequence_length, vocab_size)\n",
      "scalar_loss:       3.7610064\n"
     ]
    }
   ],
   "source": [
    "def loss(labels, logits):\n",
    "  return tf.keras.losses.sparse_categorical_crossentropy(labels, logits, from_logits=True)\n",
    "\n",
    "example_batch_loss  = loss(target_example_batch, example_batch_predictions)\n",
    "print(\"Prediction shape: \", example_batch_predictions.shape, \" # (batch_size, sequence_length, vocab_size)\")\n",
    "print(\"scalar_loss:      \", example_batch_loss.numpy().mean())"
   ]
  },
  {
   "cell_type": "markdown",
   "metadata": {
    "id": "jeOXriLcymww"
   },
   "source": [
    "Configure the training procedure using the `tf.keras.Model.compile` method. We'll use `tf.train.AdamOptimizer` with default arguments and the loss function."
   ]
  },
  {
   "cell_type": "code",
   "execution_count": 32,
   "metadata": {
    "id": "DDl1_Een6rL0"
   },
   "outputs": [],
   "source": [
    "model.compile(\n",
    "    optimizer = tf.optimizers.Adam(),\n",
    "    loss = loss)"
   ]
  },
  {
   "cell_type": "markdown",
   "metadata": {
    "id": "ieSJdchZggUj"
   },
   "source": [
    "### Configure checkpoints"
   ]
  },
  {
   "cell_type": "markdown",
   "metadata": {
    "id": "C6XBUUavgF56"
   },
   "source": [
    "Use a `tf.keras.callbacks.ModelCheckpoint` to ensure that checkpoints are saved during training:"
   ]
  },
  {
   "cell_type": "code",
   "execution_count": 33,
   "metadata": {
    "id": "W6fWTriUZP-n"
   },
   "outputs": [],
   "source": [
    "# Directory where the checkpoints will be saved\n",
    "checkpoint_dir = './training_checkpoints'\n",
    "# Name of the checkpoint files\n",
    "checkpoint_prefix = os.path.join(checkpoint_dir, \"ckpt_{epoch}\")\n",
    "\n",
    "checkpoint_callback=tf.keras.callbacks.ModelCheckpoint(\n",
    "    filepath=checkpoint_prefix,\n",
    "    save_weights_only=True)"
   ]
  },
  {
   "cell_type": "markdown",
   "metadata": {
    "id": "3Ky3F_BhgkTW"
   },
   "source": [
    "### Execute the training"
   ]
  },
  {
   "cell_type": "markdown",
   "metadata": {
    "id": "IxdOA-rgyGvs"
   },
   "source": [
    "To keep training time reasonable, use 3 epochs to train the model. In Colab, set the runtime to GPU for faster training."
   ]
  },
  {
   "cell_type": "code",
   "execution_count": 34,
   "metadata": {
    "id": "7yGBE2zxMMHs"
   },
   "outputs": [],
   "source": [
    "EPOCHS=50"
   ]
  },
  {
   "cell_type": "code",
   "execution_count": null,
   "metadata": {
    "colab": {
     "base_uri": "https://localhost:8080/",
     "height": 428
    },
    "id": "UK-hmKjYVoll",
    "outputId": "753ff0c5-28ab-4c86-80bf-6963faac2e9f"
   },
   "outputs": [
    {
     "name": "stdout",
     "output_type": "stream",
     "text": [
      "Epoch 1/50\n",
      " 5/11 [============>.................] - ETA: 1:00 - loss: 4.6600"
     ]
    }
   ],
   "source": [
    "history = model.fit(dataset.repeat(), epochs=EPOCHS, steps_per_epoch=steps_per_epoch,\n",
    "                    callbacks=[checkpoint_callback])"
   ]
  },
  {
   "cell_type": "markdown",
   "metadata": {
    "id": "kKkD5M6eoSiN"
   },
   "source": [
    "## Generate text"
   ]
  },
  {
   "cell_type": "markdown",
   "metadata": {
    "id": "JIPcXllKjkdr"
   },
   "source": [
    "### Restore the latest checkpoint"
   ]
  },
  {
   "cell_type": "markdown",
   "metadata": {
    "id": "LyeYRiuVjodY"
   },
   "source": [
    "To keep this prediction step simple, use a batch size of 1.\n",
    "\n",
    "Because of the way the RNN state is passed from timestep to timestep, the model only accepts a fixed batch size once built.\n",
    "\n",
    "To run the model with a different `batch_size`, we need to rebuild the model and restore the weights from the checkpoint.\n"
   ]
  },
  {
   "cell_type": "code",
   "execution_count": null,
   "metadata": {
    "colab": {
     "base_uri": "https://localhost:8080/",
     "height": 34
    },
    "id": "zk2WJ2-XjkGz",
    "outputId": "f89efe71-5080-4771-b446-f1030c602fbe"
   },
   "outputs": [
    {
     "data": {
      "text/plain": [
       "'./training_checkpoints/ckpt_10'"
      ]
     },
     "execution_count": 28,
     "metadata": {
      "tags": []
     },
     "output_type": "execute_result"
    }
   ],
   "source": [
    "tf.train.latest_checkpoint(checkpoint_dir)"
   ]
  },
  {
   "cell_type": "code",
   "execution_count": null,
   "metadata": {
    "id": "LycQ-ot_jjyu"
   },
   "outputs": [],
   "source": [
    "model = build_model(vocab_size, embedding_dim, rnn_units, batch_size=1)\n",
    "\n",
    "model.load_weights(tf.train.latest_checkpoint(checkpoint_dir))\n",
    "\n",
    "model.build(tf.TensorShape([1, None]))"
   ]
  },
  {
   "cell_type": "code",
   "execution_count": null,
   "metadata": {
    "colab": {
     "base_uri": "https://localhost:8080/",
     "height": 238
    },
    "id": "71xa6jnYVrAN",
    "outputId": "40994329-e7b0-4b67-8e70-87748bb1e336"
   },
   "outputs": [
    {
     "name": "stdout",
     "output_type": "stream",
     "text": [
      "_________________________________________________________________\n",
      "Layer (type)                 Output Shape              Param #   \n",
      "=================================================================\n",
      "embedding_1 (Embedding)      (1, None, 256)            10240     \n",
      "_________________________________________________________________\n",
      "gru_1 (GRU)                  (1, None, 1024)           3935232   \n",
      "_________________________________________________________________\n",
      "dense_1 (Dense)              (1, None, 40)             41000     \n",
      "=================================================================\n",
      "Total params: 3,986,472\n",
      "Trainable params: 3,986,472\n",
      "Non-trainable params: 0\n",
      "_________________________________________________________________\n"
     ]
    }
   ],
   "source": [
    "model.summary()"
   ]
  },
  {
   "cell_type": "markdown",
   "metadata": {
    "id": "DjGz1tDkzf-u"
   },
   "source": [
    "### The prediction loop\n",
    "\n",
    "The following code block generates the text:\n",
    "\n",
    "* It Starts by choosing a start string, initializing the RNN state and setting the number of characters to generate.\n",
    "\n",
    "* Get the prediction distribution of the next character using the start string and the RNN state.\n",
    "\n",
    "* Then, use a multinomial distribution to calculate the index of the predicted character. Use this predicted character as our next input to the model.\n",
    "\n",
    "* The RNN state returned by the model is fed back into the model so that it now has more context, instead than only one word. After predicting the next word, the modified RNN states are again fed back into the model, which is how it learns as it gets more context from the previously predicted words.\n",
    "\n",
    "\n",
    "![To generate text the model's output is fed back to the input](https://tensorflow.org/tutorials/sequences/images/text_generation_sampling.png)\n",
    "\n",
    "Looking at the generated text, you'll see the model knows when to capitalize, make paragraphs and imitates a Shakespeare-like writing vocabulary. With the small number of training epochs, it has not yet learned to form coherent sentences."
   ]
  },
  {
   "cell_type": "code",
   "execution_count": null,
   "metadata": {
    "id": "WvuwZBX5Ogfd"
   },
   "outputs": [],
   "source": [
    "def generate_text(model, start_string):\n",
    "  # Evaluation step (generating text using the learned model)\n",
    "\n",
    "  # Number of characters to generate\n",
    "  num_generate = 1000\n",
    "\n",
    "  # Converting our start string to numbers (vectorizing)\n",
    "  input_eval = [char2idx[s] for s in start_string]\n",
    "  input_eval = tf.expand_dims(input_eval, 0)\n",
    "\n",
    "  # Empty string to store our results\n",
    "  text_generated = []\n",
    "\n",
    "  # Low temperatures results in more predictable text.\n",
    "  # Higher temperatures results in more surprising text.\n",
    "  # Experiment to find the best setting.\n",
    "  temperature = 1.0\n",
    "\n",
    "  # Here batch size == 1\n",
    "  model.reset_states()\n",
    "  for i in range(num_generate):\n",
    "      predictions = model(input_eval)\n",
    "      # remove the batch dimension\n",
    "      predictions = tf.squeeze(predictions, 0)\n",
    "\n",
    "      # using a multinomial distribution to predict the word returned by the model\n",
    "      predictions = predictions / temperature\n",
    "      predicted_id = tf.multinomial(predictions, num_samples=1)[-1,0].numpy()\n",
    "      #print(tf.multinomial(predictions, num_samples=1).shape)\n",
    "      # We pass the predicted word as the next input to the model\n",
    "      # along with the previous hidden state\n",
    "      input_eval = tf.expand_dims([predicted_id], 0)\n",
    "\n",
    "      text_generated.append(idx2char[predicted_id])\n",
    "\n",
    "  return (start_string + ''.join(text_generated))"
   ]
  },
  {
   "cell_type": "code",
   "execution_count": null,
   "metadata": {
    "colab": {
     "base_uri": "https://localhost:8080/",
     "height": 734
    },
    "id": "ktovv0RFhrkn",
    "outputId": "b8578c54-da90-4761-e402-e9be49c99225"
   },
   "outputs": [
    {
     "name": "stdout",
     "output_type": "stream",
     "text": [
      "WARNING:tensorflow:From <ipython-input-31-884e510650bb>:28: multinomial (from tensorflow.python.ops.random_ops) is deprecated and will be removed in a future version.\n",
      "Instructions for updating:\n",
      "Use tf.random.categorical instead.\n",
      "سلام وعزمة\n",
      "وعيني بأنواع المله وإنها\n",
      "نتى رشد محبورة اخبرت درة\n",
      "إلى كثرة الغاوين ركثا موسد \n",
      " بخاتواه ووراد امتداحا ومنزلا\n",
      "كما شقت الجيشان والعمر أجداثا غيركم في الدراقظ\n",
      "بأنفسهم يوم التئيم وعرفك\n",
      "ولكن حذار الصدريفن الذك قد أبقته العجا\n",
      "قذاوا قرينا في نسيم ثرائره\n",
      "وما العرف في دون المصاب فإنها\n",
      "لما كان هذا ا إلى وحيية\n",
      "تولى الكرات البيد غدرا بنفسه\n",
      "وخير محمد وافد الاسمية \n",
      " عيون وأحزام الإله سهام\n",
      "وأع زينص الخبر هجرة واسع\n",
      "ونشران حتى يدبر العذل القط\n",
      "بسورته اذذلي بذكر وراءه\n",
      "على المجد جواب وغبت به\n",
      "عذوذك والأكوان فيه عداوة\n",
      "وللفاضل النعمان غبض مخاصن\n",
      "وتطذو على طول الجياد المسجود\n",
      "حوائلها شيخت إذا نشوت رحيا\n",
      "وقد تركت قفرا إليك وإنما\n",
      "تقل على أجواده وعظام\n",
      "حميت به بورة بسلي والذهيذ ببده\n",
      "وأنت رحيته قلت للسحل أسوك\n",
      "فرند هنوا صدقا أخو كل مكة\n",
      "وعظم من عدر ظبي ورحمة\n",
      "يحاطر ما أخلا أغيب وكمت\n",
      "فيوما على الفضل القبيل يدا عن مرأته\n",
      " فكم قد يدر الخير في أحج اسطه\n",
      "وليس لهم من حورة الآل همه\n",
      "تطوذن أو لا أستطيع نظهره\n",
      "وسوراء ما يتبعن بالناس كيف\n",
      "فما روعة إلا كمدح المساعد\n",
      "على الناذيات الود عنا به الحصا\n",
      "كريم إذا أنالتك أرشدت لضوائعا\n",
      "لنا \n"
     ]
    }
   ],
   "source": [
    "print(generate_text(model, start_string=u\"سلام\"))"
   ]
  },
  {
   "cell_type": "code",
   "execution_count": null,
   "metadata": {
    "id": "p751LCLROQYo"
   },
   "outputs": [],
   "source": [
    "model.save('keras.h5')"
   ]
  }
 ],
 "metadata": {
  "accelerator": "GPU",
  "colab": {
   "collapsed_sections": [],
   "name": "Arabic-Poem-Generation.ipynb",
   "provenance": []
  },
  "kernelspec": {
   "display_name": "Python 3",
   "language": "python",
   "name": "python3"
  },
  "language_info": {
   "codemirror_mode": {
    "name": "ipython",
    "version": 3
   },
   "file_extension": ".py",
   "mimetype": "text/x-python",
   "name": "python",
   "nbconvert_exporter": "python",
   "pygments_lexer": "ipython3",
   "version": "3.8.8"
  }
 },
 "nbformat": 4,
 "nbformat_minor": 1
}
