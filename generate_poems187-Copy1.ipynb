{
 "cells": [
  {
   "cell_type": "code",
   "execution_count": 6,
   "metadata": {},
   "outputs": [],
   "source": [
    "import rhymes\n",
    "import markovify\n",
    "from tqdm import tqdm"
   ]
  },
  {
   "cell_type": "code",
   "execution_count": 2,
   "metadata": {},
   "outputs": [],
   "source": [
    "def markov(text_file):\n",
    "    with open(text_file, 'r', encoding='utf-8') as f:\n",
    "        text = f.read()\n",
    "    text_model = markovify.NewlineText(text)\n",
    "    return text_model"
   ]
  },
  {
   "cell_type": "code",
   "execution_count": 14,
   "metadata": {},
   "outputs": [],
   "source": [
    "\n",
    "x = generate_poem_2_rhymes(\n",
    "                            'عنترة بن شداد',\n",
    "                            'ها',\n",
    "                            'ام',\n",
    "                            iterations=3000,\n",
    "                            use_tqdm=False\n",
    "                            )"
   ]
  },
  {
   "cell_type": "code",
   "execution_count": 2,
   "metadata": {},
   "outputs": [
    {
     "ename": "NameError",
     "evalue": "name 'generate_poem_2_rhymes' is not defined",
     "output_type": "error",
     "traceback": [
      "\u001b[1;31m---------------------------------------------------------------------------\u001b[0m",
      "\u001b[1;31mNameError\u001b[0m                                 Traceback (most recent call last)",
      "\u001b[1;32m<ipython-input-2-52f9f2c8715a>\u001b[0m in \u001b[0;36m<module>\u001b[1;34m\u001b[0m\n\u001b[1;32m----> 1\u001b[1;33m x = generate_poem_2_rhymes(\n\u001b[0m\u001b[0;32m      2\u001b[0m                             \u001b[1;34m'جزل4'\u001b[0m\u001b[1;33m,\u001b[0m\u001b[1;33m\u001b[0m\u001b[1;33m\u001b[0m\u001b[0m\n\u001b[0;32m      3\u001b[0m                             \u001b[1;34m'ار'\u001b[0m\u001b[1;33m,\u001b[0m\u001b[1;33m\u001b[0m\u001b[1;33m\u001b[0m\u001b[0m\n\u001b[0;32m      4\u001b[0m                             \u001b[1;34m'ام'\u001b[0m\u001b[1;33m,\u001b[0m\u001b[1;33m\u001b[0m\u001b[1;33m\u001b[0m\u001b[0m\n\u001b[0;32m      5\u001b[0m                             \u001b[0miterations\u001b[0m\u001b[1;33m=\u001b[0m\u001b[1;36m3000\u001b[0m\u001b[1;33m,\u001b[0m\u001b[1;33m\u001b[0m\u001b[1;33m\u001b[0m\u001b[0m\n",
      "\u001b[1;31mNameError\u001b[0m: name 'generate_poem_2_rhymes' is not defined"
     ]
    }
   ],
   "source": [
    "\n",
    "x = generate_poem_2_rhymes(\n",
    "                            'جزل4',\n",
    "                            'ار',\n",
    "                            'ام',\n",
    "                            iterations=3000,\n",
    "                            use_tqdm=False\n",
    "                            )\n",
    "print(x)"
   ]
  },
  {
   "cell_type": "code",
   "execution_count": 341,
   "metadata": {},
   "outputs": [
    {
     "name": "stdout",
     "output_type": "stream",
     "text": [
      "به مثل ما خسل الوبار\n"
     ]
    }
   ],
   "source": [
    "x = generate_poem_single_rhyme(\n",
    "                            'عنترة بن شداد',\n",
    "                            'ار',\n",
    "                            iterations=30000,\n",
    "                            use_tqdm=False\n",
    "                            )"
   ]
  },
  {
   "cell_type": "code",
   "execution_count": 142,
   "metadata": {},
   "outputs": [
    {
     "name": "stdout",
     "output_type": "stream",
     "text": [
      "حتّى إذا انجاب عنه ليله\n",
      "فما للسمين لا يقوم له\n",
      "ولا بأجهر منه حين تسأله\n",
      "كانوا ذوي إمّة حتّى إذا علم الإله نكاله\n",
      "نمته إلى خير الملوك فضوله\n"
     ]
    }
   ],
   "source": [
    "x = generate_poem_single_rhyme(\n",
    "                            'الأخطل',\n",
    "                            'له',\n",
    "                            iterations=3000,\n",
    "                            use_tqdm=False\n",
    "                            )"
   ]
  },
  {
   "cell_type": "code",
   "execution_count": 5,
   "metadata": {},
   "outputs": [
    {
     "name": "stdout",
     "output_type": "stream",
     "text": [
      "صيعريه لا عطت خط بلا سابق انذار\n",
      "وراغ دولاب الضلوع العوج راغ قلت هذا شهرياروشهر زاد اللي يسار\n",
      "من غدت همي وانا مالي خيار الا قدرها\n",
      "من سرت يمي وانا مالي ديار الا ديرها\n",
      "انكس انكس يا معمر شبها\n",
      "او كما حص لمع من فوق قله معمر صبها\n",
      "ولا يجي من ليبيا ما عرفنا ربها\n"
     ]
    }
   ],
   "source": [
    "x = generate_poem_single_rhyme(\n",
    "                            'جزل4',\n",
    "                            'ار',\n",
    "                            iterations=3000,\n",
    "                            use_tqdm=False\n",
    "                            )\n",
    "\n",
    "y = generate_poem_single_rhyme(\n",
    "                            'جزل4',\n",
    "                            'ها',\n",
    "                            iterations=3000,\n",
    "                            use_tqdm=False\n",
    "                            )"
   ]
  },
  {
   "cell_type": "code",
   "execution_count": 10,
   "metadata": {},
   "outputs": [
    {
     "name": "stdout",
     "output_type": "stream",
     "text": [
      "ماردٍ في وسط دير\n",
      "وابتسمت شويْ وقلت اثر ما في السهر خير\n"
     ]
    }
   ],
   "source": [
    "x = generate_poem_single_rhyme(\n",
    "                            'جزل4',\n",
    "                            'ير',\n",
    "                            iterations=3000,\n",
    "                            use_tqdm=False\n",
    "                            )"
   ]
  },
  {
   "cell_type": "code",
   "execution_count": 11,
   "metadata": {
    "scrolled": false
   },
   "outputs": [
    {
     "name": "stdout",
     "output_type": "stream",
     "text": [
      "كنها تنتل من الرقه جثث لا عطت خط بلا سابق انذار\n",
      "وراغ دولاب الضلوع العوج راغ قلت هذا شهرياروشهر زاد اللي يسار\n",
      "يا خلوج جاوبت في حشا صدري حواري\n",
      "مثل ما هو لعنبو من لاتقمص فيك شخصيه سفيه مثل ما دندن الدندان جاري\n",
      "قيصر من فوق صاري\n"
     ]
    }
   ],
   "source": [
    "x = generate_poem_single_rhyme(\n",
    "                            'جزل4',\n",
    "                            'ار',\n",
    "                            iterations=3000,\n",
    "                            use_tqdm=False\n",
    "                            )\n",
    "\n",
    "y = generate_poem_single_rhyme(\n",
    "                            'جزل4',\n",
    "                            'ري',\n",
    "                            iterations=3000,\n",
    "                            use_tqdm=False\n",
    "                            )"
   ]
  },
  {
   "cell_type": "code",
   "execution_count": 5,
   "metadata": {},
   "outputs": [
    {
     "ename": "NameError",
     "evalue": "name 'markovify' is not defined",
     "output_type": "error",
     "traceback": [
      "\u001b[1;31m---------------------------------------------------------------------------\u001b[0m",
      "\u001b[1;31mNameError\u001b[0m                                 Traceback (most recent call last)",
      "\u001b[1;32m<ipython-input-5-0dddbc98b8ac>\u001b[0m in \u001b[0;36m<module>\u001b[1;34m\u001b[0m\n\u001b[1;32m----> 1\u001b[1;33m x = generate_poem_single_rhyme(\n\u001b[0m\u001b[0;32m      2\u001b[0m                             \u001b[1;34m'نزار قباني'\u001b[0m\u001b[1;33m,\u001b[0m\u001b[1;33m\u001b[0m\u001b[1;33m\u001b[0m\u001b[0m\n\u001b[0;32m      3\u001b[0m                             \u001b[1;34m'يا'\u001b[0m\u001b[1;33m,\u001b[0m\u001b[1;33m\u001b[0m\u001b[1;33m\u001b[0m\u001b[0m\n\u001b[0;32m      4\u001b[0m \u001b[1;33m\u001b[0m\u001b[0m\n\u001b[0;32m      5\u001b[0m                             \u001b[0miterations\u001b[0m\u001b[1;33m=\u001b[0m\u001b[1;36m3000\u001b[0m\u001b[1;33m,\u001b[0m\u001b[1;33m\u001b[0m\u001b[1;33m\u001b[0m\u001b[0m\n",
      "\u001b[1;32m<ipython-input-3-85071d39d11b>\u001b[0m in \u001b[0;36mgenerate_poem_single_rhyme\u001b[1;34m(poet_name, rhyme, iterations, use_tqdm)\u001b[0m\n\u001b[0;32m      2\u001b[0m     \u001b[0mn_of_rhyme_letters\u001b[0m \u001b[1;33m=\u001b[0m \u001b[0mlen\u001b[0m\u001b[1;33m(\u001b[0m\u001b[0mrhyme\u001b[0m\u001b[1;33m)\u001b[0m\u001b[1;33m\u001b[0m\u001b[1;33m\u001b[0m\u001b[0m\n\u001b[0;32m      3\u001b[0m     \u001b[0minput_file\u001b[0m \u001b[1;33m=\u001b[0m \u001b[1;34m'.\\input\\{}.txt'\u001b[0m\u001b[1;33m.\u001b[0m\u001b[0mformat\u001b[0m\u001b[1;33m(\u001b[0m\u001b[0mpoet_name\u001b[0m\u001b[1;33m)\u001b[0m\u001b[1;33m\u001b[0m\u001b[1;33m\u001b[0m\u001b[0m\n\u001b[1;32m----> 4\u001b[1;33m     \u001b[0mtext_model\u001b[0m \u001b[1;33m=\u001b[0m \u001b[0mmarkov\u001b[0m\u001b[1;33m(\u001b[0m\u001b[0minput_file\u001b[0m\u001b[1;33m)\u001b[0m\u001b[1;33m\u001b[0m\u001b[1;33m\u001b[0m\u001b[0m\n\u001b[0m\u001b[0;32m      5\u001b[0m     \u001b[0mrhymes_list\u001b[0m \u001b[1;33m=\u001b[0m \u001b[0mrhymes\u001b[0m\u001b[1;33m.\u001b[0m\u001b[0mrhymes_with_last_n_chars\u001b[0m\u001b[1;33m(\u001b[0m\u001b[0mrhyme\u001b[0m\u001b[1;33m,\u001b[0m \u001b[0mn_of_rhyme_letters\u001b[0m\u001b[1;33m)\u001b[0m\u001b[1;33m\u001b[0m\u001b[1;33m\u001b[0m\u001b[0m\n\u001b[0;32m      6\u001b[0m     \u001b[0mbayts\u001b[0m \u001b[1;33m=\u001b[0m \u001b[0mset\u001b[0m\u001b[1;33m(\u001b[0m\u001b[1;33m)\u001b[0m\u001b[1;33m\u001b[0m\u001b[1;33m\u001b[0m\u001b[0m\n",
      "\u001b[1;32m<ipython-input-2-2363a0b4ab7e>\u001b[0m in \u001b[0;36mmarkov\u001b[1;34m(text_file)\u001b[0m\n\u001b[0;32m      2\u001b[0m     \u001b[1;32mwith\u001b[0m \u001b[0mopen\u001b[0m\u001b[1;33m(\u001b[0m\u001b[0mtext_file\u001b[0m\u001b[1;33m,\u001b[0m \u001b[1;34m'r'\u001b[0m\u001b[1;33m,\u001b[0m \u001b[0mencoding\u001b[0m\u001b[1;33m=\u001b[0m\u001b[1;34m'utf-8'\u001b[0m\u001b[1;33m)\u001b[0m \u001b[1;32mas\u001b[0m \u001b[0mf\u001b[0m\u001b[1;33m:\u001b[0m\u001b[1;33m\u001b[0m\u001b[1;33m\u001b[0m\u001b[0m\n\u001b[0;32m      3\u001b[0m         \u001b[0mtext\u001b[0m \u001b[1;33m=\u001b[0m \u001b[0mf\u001b[0m\u001b[1;33m.\u001b[0m\u001b[0mread\u001b[0m\u001b[1;33m(\u001b[0m\u001b[1;33m)\u001b[0m\u001b[1;33m\u001b[0m\u001b[1;33m\u001b[0m\u001b[0m\n\u001b[1;32m----> 4\u001b[1;33m     \u001b[0mtext_model\u001b[0m \u001b[1;33m=\u001b[0m \u001b[0mmarkovify\u001b[0m\u001b[1;33m.\u001b[0m\u001b[0mNewlineText\u001b[0m\u001b[1;33m(\u001b[0m\u001b[0mtext\u001b[0m\u001b[1;33m)\u001b[0m\u001b[1;33m\u001b[0m\u001b[1;33m\u001b[0m\u001b[0m\n\u001b[0m\u001b[0;32m      5\u001b[0m     \u001b[1;32mreturn\u001b[0m \u001b[0mtext_model\u001b[0m\u001b[1;33m\u001b[0m\u001b[1;33m\u001b[0m\u001b[0m\n",
      "\u001b[1;31mNameError\u001b[0m: name 'markovify' is not defined"
     ]
    }
   ],
   "source": [
    "x = generate_poem_single_rhyme(\n",
    "                            'نزار قباني',\n",
    "                            'يا',\n",
    "\n",
    "                            iterations=3000,\n",
    "                            use_tqdm=False\n",
    "                            )"
   ]
  },
  {
   "cell_type": "markdown",
   "metadata": {},
   "source": [
    "pip install pyarabic"
   ]
  },
  {
   "cell_type": "code",
   "execution_count": 8,
   "metadata": {},
   "outputs": [
    {
     "name": "stdout",
     "output_type": "stream",
     "text": [
      "فإن الحب في الدنيا\n",
      "يترك فرحة في كل الزوايا\n",
      "ونهد لم يعرف ما يحدث في الرؤيا\n",
      "فيها من الحب حيا\n",
      "و نسفت الجسر ما بين آلاف الهدايا\n",
      "فما كان حبك في رئتيا\n",
      "لا تلوميني إذا ما نزفت كديك جريح على كتفيا\n",
      "ونرجع آخر الليل مثل الشظايا\n",
      "كيف فكرت في فنيسيا\n",
      "ونسيت حقدي كله في شفتيا\n"
     ]
    }
   ],
   "source": [
    "x = generate_poem_single_rhyme(\n",
    "                            'نزار قباني',\n",
    "                            'يا',\n",
    "\n",
    "                            iterations=3000,\n",
    "                            use_tqdm=False\n",
    "                            )"
   ]
  },
  {
   "cell_type": "code",
   "execution_count": null,
   "metadata": {},
   "outputs": [],
   "source": []
  },
  {
   "cell_type": "code",
   "execution_count": 8,
   "metadata": {},
   "outputs": [
    {
     "name": "stdout",
     "output_type": "stream",
     "text": [
      "فما للسمين لا يقوم له\n",
      "نمته إلى خير الملوك فضوله\n",
      "ولا بأجهر منه حين تسأله\n",
      "شرّ الرفاق إذا ما انجاب عنه ليله\n",
      "لدن غدوة حتّى إذا علم الإله نكاله\n"
     ]
    }
   ],
   "source": [
    "x = generate_poem_single_rhyme(\n",
    "                            'الأخطل',\n",
    "                            'له',\n",
    "                            iterations=3000,\n",
    "                            use_tqdm=False\n",
    "                            )"
   ]
  },
  {
   "cell_type": "code",
   "execution_count": 11,
   "metadata": {
    "scrolled": true
   },
   "outputs": [
    {
     "name": "stdout",
     "output_type": "stream",
     "text": [
      "5النوارس هو جمع نورس وهو من طيور الجان والا نجمه فوق الشيايطين مرميه\n",
      "ومبطي يموت ان شاف ظلما وشاف الشمس حيه\n",
      "عسى الله يلعنه ميه من ورى برزان تقل صوت مسجونٍ يطالب بحريه\n",
      "ايه ايه ايه ايه ايه ايه\n",
      "ياعسى يفدى قدم رجلك اللي ماسعت كود في عز الضحى لوهو نبيه\n",
      "يرفع البيرق على وضح النقا والأرض محميه\n",
      "و جاه من صام رمضان و جاه من صام رمضان و جاه من صام رمضان و جاه من صام رمضان و جاه من صام رمضان و جاه من صام رمضان و جاه من حج الضحيه\n",
      "وراغ دولاب الضلوع العوج والخيره خفيه\n",
      "وابتسمت شويْ وقلت اثر ما في مبين بيانيه\n",
      "26من تلاعب بالاسنه اقصد به عامر بن صعصعه الملقب بملاعب الاسنه في الجاهليه\n",
      "العرب ما هيب عاريه\n",
      "احسبني قبل اشوفك واحد تشره عليه واثبتت شوفتك اني كنت ناوي لي بهاك الجمر نيه\n",
      "لا جزاها الله حلامتكشف اللي في الحشاء منى وفيه\n",
      "في زاد و فيه كن و فيه كن و فيه فيه\n",
      "ورثنا قيصرا في عرش نجد لا يقاصي دانيه\n",
      "كم الى رحمه الله و بركاته و التحيه\n",
      "امه من سور الخدم والحاشيه\n",
      "ما هو لعنبو من لاتقمص فيك شخصيه سفيه مثل ما هو لعنبو من لاتقمص فيك شخصيه سفيه\n"
     ]
    }
   ],
   "source": [
    "x = generate_poem_single_rhyme(\n",
    "                            'جزل4',\n",
    "                            'يه',\n",
    "                            iterations=3000,\n",
    "                            use_tqdm=False\n",
    "                            )"
   ]
  },
  {
   "cell_type": "code",
   "execution_count": null,
   "metadata": {},
   "outputs": [],
   "source": []
  }
 ],
 "metadata": {
  "kernelspec": {
   "display_name": "Python 3",
   "language": "python",
   "name": "python3"
  },
  "language_info": {
   "codemirror_mode": {
    "name": "ipython",
    "version": 3
   },
   "file_extension": ".py",
   "mimetype": "text/x-python",
   "name": "python",
   "nbconvert_exporter": "python",
   "pygments_lexer": "ipython3",
   "version": "3.8.8"
  }
 },
 "nbformat": 4,
 "nbformat_minor": 4
}
